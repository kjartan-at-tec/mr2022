{
 "cells": [
  {
   "cell_type": "markdown",
   "metadata": {},
   "source": [
    "# Mathematical model of the curtain"
   ]
  },
  {
   "cell_type": "markdown",
   "metadata": {},
   "source": [
    "## Model parameters\n",
    "- $a$: The height of the curtain, $\\in [3,7]$m\n",
    "- $b$: The width of the curtain, $\\in [4,8]$m\n",
    "- $c$: The thickness of the curtain, $\\in [0.5, 2]$mm\n",
    "- $\\rho = 1300$ kg/(m^3): Density of PVC\n",
    "- $r_r$: The radius of the core of the roll\n",
    "- $m_r$: The mass of the core, assumed to be a thin-walled tube.\n",
    "- $m_{w}$: Mass of the weights "
   ]
  },
  {
   "cell_type": "markdown",
   "metadata": {},
   "source": [
    "## Signals\n",
    "- $y$: Output signal. The height of the opening. $a \\in [0, a)$ and $a-y$ is the amount of rolled-up curtain.\n",
    "- $\\theta$: The angle of the roller axis. This has a static relationship with $y$ derived below.\n",
    "- $u$: Input signal. The torque acting on the roller axis. "
   ]
  },
  {
   "cell_type": "markdown",
   "metadata": {},
   "source": [
    "## Inertial properties\n",
    "### Mass of the hanging curtain"
   ]
  },
  {
   "cell_type": "code",
   "execution_count": null,
   "metadata": {},
   "outputs": [],
   "source": []
  }
 ],
 "metadata": {
  "kernelspec": {
   "display_name": "p3.8",
   "language": "python",
   "name": "p3.8"
  },
  "language_info": {
   "codemirror_mode": {
    "name": "ipython",
    "version": 3
   },
   "file_extension": ".py",
   "mimetype": "text/x-python",
   "name": "python",
   "nbconvert_exporter": "python",
   "pygments_lexer": "ipython3",
   "version": "3.8.6"
  }
 },
 "nbformat": 4,
 "nbformat_minor": 4
}
