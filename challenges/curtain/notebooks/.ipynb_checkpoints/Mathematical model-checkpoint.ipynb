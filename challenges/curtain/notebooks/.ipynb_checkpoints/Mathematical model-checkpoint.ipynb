{
 "cells": [
  {
   "cell_type": "markdown",
   "metadata": {},
   "source": [
    "# Mathematical model of the curtain"
   ]
  },
  {
   "cell_type": "markdown",
   "metadata": {},
   "source": [
    "## Model parameters\n",
    "- $a$: The height of the curtain, $\\in [3,7]$m\n",
    "- $b$: The width of the curtain, $\\in [4,8]$m\n",
    "- $c$: The thickness of the curtain, $\\in [0.5, 2]$mm\n",
    "- $\\rho = 1300$ kg/(m^3): Density of PVC\n",
    "- $r_r$: The radius of the core of the roll\n",
    "- $m_r$: The mass of the core, assumed to be a thin-walled tube.\n",
    "- $m_{w}$: Mass of the weights in the bottom of the curtain which keep it stretched"
   ]
  },
  {
   "cell_type": "markdown",
   "metadata": {},
   "source": [
    "## Signals\n",
    "- $y$: Output signal. The height of the opening. $a \\in [0, a)$ and $a-y$ is the amount of hanging curtain.\n",
    "- $\\theta$: The angle of the roller axis. This has a static relationship with $y$ derived below.\n",
    "- $u$: Input signal. The torque acting on the roller axis. "
   ]
  },
  {
   "cell_type": "markdown",
   "metadata": {},
   "source": [
    "## Kinematic relationships\n",
    "### The radius of the roll as a function of the opening $y$\n",
    "We assume a circular shape of the cross-section. The area of this is $A=\\pi r^2$, which must equal the sum of the area of the core $A_c = \\pi r_r^2$ and the area of the rolled up curtain $A_c = cy$. So,\n",
    "$$r = \\sqrt{r_r^2 + \\frac{c}{\\pi}y}, \\quad \\text{and}$$\n",
    "$$ y = \\frac{\\pi}{c}(r^2 - r_r^2).$$\n",
    "### Relationship between $y$ and $\\theta$\n",
    "Start with the relationship between the velocities\n",
    "$$ r(y)\\frac{d\\theta}{dt} = \\frac{dy}{dt},$$\n",
    "which gives\n",
    "$$ \\frac{dy}{r(y)} = d\\theta$$\n",
    "$$ \\frac{1}{\\sqrt{r_r^2 + \\frac{c}{\\pi}y}} dy = d\\theta.$$\n",
    "Integrate both sides to obtain\n",
    "$$ \\frac{2\\pi}{c}\\sqrt{r_r^2 + \\frac{c}{\\pi} y} = \\theta + K. $$\n",
    "We need an initial condition between $y$ and $\\theta$ to determine the constant $K$. \n",
    "Let $y=0$ imply $\\theta = 0$, hence\n",
    "$$ K = \\frac{2\\pi}{c}r_r.$$\n",
    "To find $y$ as a function of $\\theta$:\n",
    "$$ r_r^2 + \\frac{c}{\\pi}y = (\\frac{c}{2\\pi} \\theta + r_r)^2$$\n",
    "$$ r_r^2 + \\frac{c}{\\pi}y = (\\frac{c}{2\\pi})^2 \\theta^2  + \\frac{cr_r}{\\pi}\\theta + r_r^2$$\n",
    "$$ \\frac{c}{\\pi}y = (\\frac{c}{2\\pi})^2 \\theta^2  + \\frac{cr_r}{\\pi}\\theta$$\n",
    "$$ y = \\frac{c}{4\\pi}\\theta^2 + r_r \\theta = \\theta(\\frac{c}{4\\pi}\\theta + r_r).$$"
   ]
  },
  {
   "cell_type": "markdown",
   "metadata": {},
   "source": [
    "## Inertial properties\n",
    "### Mass of the hanging curtain and rolled-up curtain\n",
    "The hanging curtain has mass\n",
    "$$m_c = m_w + \\rho b c (a-y),$$\n",
    "and the rolled up part\n",
    "$$m_{rc} = \\rho b c y.$$\n",
    "### Moment of inertia of the rolled-up and hanging curtain\n",
    "The moment of inertia of the core is\n",
    "$$I_r = m_rr_r^2, $$\n",
    "the moment of inertia of the rolled-up portion of the curtain is \n",
    "$$I_{rc}(y) = \\frac{1}{2} m_{rc}(r^2 - r_r^2) = \\frac{\\rho b c^2}{\\pi}y^2, $$ and the hanging mass, considering it to be a point mass at distance $r(y)$ from the axis of the roller is\n",
    "$$I_c(y) = m_c r(y)^2 = (m_w + \\rho b c (a-y))(r_r^2 + \\frac{c}{\\pi}y). $$ \n",
    "The complete moment of inertia with respect to the axis of the roller is\n",
    "$$I(y) = I_r + I_{cr}(y) + I_c(y).$$"
   ]
  },
  {
   "cell_type": "markdown",
   "metadata": {},
   "source": [
    "## Friction\n",
    "We consider two types of friction. A friction in the bearings of the roller, and a friction between the curtain and the rails it travels in. The friction moment in the roller bearings is \n",
    "$$ F_{r} = f_r \\frac{d \\theta}{dt}.$$\n",
    "The friction in the curtain will be proportional to both the velocity $\\frac{dy}{dt}$ and the length of hanging curtain $a-y$:\n",
    "$$F_c = f_c (a-y) \\frac{d y}{dt}.$$"
   ]
  },
  {
   "cell_type": "markdown",
   "metadata": {},
   "source": [
    "## ODE\n",
    "$$I(y) \\ddot{\\theta} = -m_c(y)r(y)g - f_r\\dot{\\theta}-f_c(a-y)\\dot{y} + u.$$"
   ]
  },
  {
   "cell_type": "code",
   "execution_count": 7,
   "metadata": {},
   "outputs": [],
   "source": [
    "import sympy as sy\n",
    "sy.init_printing()"
   ]
  },
  {
   "cell_type": "code",
   "execution_count": 10,
   "metadata": {},
   "outputs": [],
   "source": [
    "a,b,c,rr,rho,m_r,m_w = sy.symbols('a b c r_r rho m_r m_w')\n",
    "y,u,theta,r = sy.symbols('y u theta r')"
   ]
  },
  {
   "cell_type": "code",
   "execution_count": 17,
   "metadata": {},
   "outputs": [
    {
     "data": {
      "image/png": "[encoded data removed]",
      "text/latex": [
       "$\\displaystyle - c y + \\pi r^{2} - \\pi r_{r}^{2}$"
      ],
      "text/plain": [
       "          2       2\n",
       "-c⋅y + π⋅r  - π⋅rᵣ "
      ]
     },
     "execution_count": 17,
     "metadata": {},
     "output_type": "execute_result"
    }
   ],
   "source": [
    "At = sy.pi*r**2\n",
    "Ar = sy.pi*rr**2\n",
    "Ac = y*c\n",
    "eq1 = At - Ar -Ac\n",
    "eq1"
   ]
  },
  {
   "cell_type": "code",
   "execution_count": 18,
   "metadata": {},
   "outputs": [
    {
     "data": {
      "image/png": "[encoded data removed]",
      "text/latex": [
       "$\\displaystyle \\left[ \\frac{\\pi \\left(r^{2} - r_{r}^{2}\\right)}{c}\\right]$"
      ],
      "text/plain": [
       "⎡  ⎛ 2     2⎞⎤\n",
       "⎢π⋅⎝r  - rᵣ ⎠⎥\n",
       "⎢────────────⎥\n",
       "⎣     c      ⎦"
      ]
     },
     "execution_count": 18,
     "metadata": {},
     "output_type": "execute_result"
    }
   ],
   "source": [
    "sy.solve(eq1, y)"
   ]
  },
  {
   "cell_type": "code",
   "execution_count": 20,
   "metadata": {},
   "outputs": [
    {
     "data": {
      "image/png": "[encoded data removed]",
      "text/latex": [
       "$\\displaystyle \\frac{2 \\pi \\sqrt{\\frac{c y}{\\pi} + r_{r}^{2}}}{c}$"
      ],
      "text/plain": [
       "        ___________\n",
       "       ╱ c⋅y     2 \n",
       "2⋅π⋅  ╱  ─── + rᵣ  \n",
       "    ╲╱    π        \n",
       "───────────────────\n",
       "         c         "
      ]
     },
     "execution_count": 20,
     "metadata": {},
     "output_type": "execute_result"
    }
   ],
   "source": [
    "sy.integrate(1/sy.sqrt(rr**2 + c/sy.pi*y), y)"
   ]
  },
  {
   "cell_type": "code",
   "execution_count": null,
   "metadata": {},
   "outputs": [],
   "source": []
  }
 ],
 "metadata": {
  "kernelspec": {
   "display_name": "p3.8",
   "language": "python",
   "name": "p3.8"
  },
  "language_info": {
   "codemirror_mode": {
    "name": "ipython",
    "version": 3
   },
   "file_extension": ".py",
   "mimetype": "text/x-python",
   "name": "python",
   "nbconvert_exporter": "python",
   "pygments_lexer": "ipython3",
   "version": "3.8.6"
  }
 },
 "nbformat": 4,
 "nbformat_minor": 4
}
