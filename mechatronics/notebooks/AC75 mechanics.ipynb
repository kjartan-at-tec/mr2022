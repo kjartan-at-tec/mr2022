{
 "cells": [
  {
   "cell_type": "markdown",
   "id": "quarterly-maintenance",
   "metadata": {},
   "source": [
    "## Forces on an AC75 hydrofoil\n"
   ]
  },
  {
   "cell_type": "code",
   "execution_count": 8,
   "id": "solved-embassy",
   "metadata": {},
   "outputs": [],
   "source": [
    "# Constants\n",
    "M = 7.6e3 # kg mass total\n",
    "m = 2.43/2 # kg mass of one foil\n",
    "A = 235 # m^2 sail area\n",
    "dw = 5 # m Distance from center of keel to foil in water\n",
    "da = 7 # m Moment arm of foil in air \n",
    "dh = 2 # m moment arm of foil force to hinge\n",
    "h = 14 # m Moment arm of wind pressure\n",
    "rho = 1.225 # kg/m^3, density of air at sea level\n",
    "\n",
    "# Variables\n",
    "V = 20 # m/s wind speed"
   ]
  },
  {
   "cell_type": "code",
   "execution_count": 9,
   "id": "color-riding",
   "metadata": {},
   "outputs": [
    {
     "data": {
      "text/plain": [
       "(99427.2368292361, 81423.34585363095, 198854.4736584722)"
      ]
     },
     "execution_count": 9,
     "metadata": {},
     "output_type": "execute_result"
    }
   ],
   "source": [
    "import numpy as np\n",
    "# Force on sails at 20 deg angle of attack\n",
    "CL = 1.4\n",
    "CD = 0.2\n",
    "FL = 0.5*rho*A*V**2*CL\n",
    "FD = 0.5*rho*A*V**2*CD\n",
    "Fs = np.sqrt(FL**2 + FD**2)\n",
    "\n",
    "# Moment equilibrium about the wind-side foil\n",
    "# F*(dw+dh) = M*dh + Fs*h \n",
    "F = (M*da + Fs*h)/(dw+da)\n",
    "F, Fs, F*dh"
   ]
  },
  {
   "cell_type": "code",
   "execution_count": null,
   "id": "bronze-inflation",
   "metadata": {},
   "outputs": [],
   "source": []
  },
  {
   "cell_type": "code",
   "execution_count": null,
   "id": "decreased-documentation",
   "metadata": {},
   "outputs": [],
   "source": []
  }
 ],
 "metadata": {
  "kernelspec": {
   "display_name": "Python 3",
   "language": "python",
   "name": "python3"
  },
  "language_info": {
   "codemirror_mode": {
    "name": "ipython",
    "version": 3
   },
   "file_extension": ".py",
   "mimetype": "text/x-python",
   "name": "python",
   "nbconvert_exporter": "python",
   "pygments_lexer": "ipython3",
   "version": "3.8.5"
  }
 },
 "nbformat": 4,
 "nbformat_minor": 5
}
